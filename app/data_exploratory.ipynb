{
 "cells": [
  {
   "attachments": {},
   "cell_type": "markdown",
   "metadata": {},
   "source": [
    "# <h1 align=center>**`Movies Score - Data Engineering - PI`**</h1>"
   ]
  },
  {
   "attachments": {},
   "cell_type": "markdown",
   "metadata": {},
   "source": [
    "## ``Importación de librerías``"
   ]
  },
  {
   "cell_type": "code",
   "execution_count": 60,
   "metadata": {},
   "outputs": [],
   "source": [
    "import pandas as pd\n",
    "import numpy as np\n",
    "# mostrar todas las filas y columnas\n",
    "pd.set_option('display.max_rows', None)\n",
    "pd.set_option('display.max_columns', None)"
   ]
  },
  {
   "attachments": {},
   "cell_type": "markdown",
   "metadata": {},
   "source": [
    "## ``Carga de datasets``"
   ]
  },
  {
   "cell_type": "code",
   "execution_count": 61,
   "metadata": {},
   "outputs": [],
   "source": [
    "amazon = pd.read_csv('../app/Datasets/amazon_prime_titles-score.csv')\n",
    "disney = pd.read_csv('../app/Datasets/disney_plus_titles-score.csv')\n",
    "hulu = pd.read_csv('../app/Datasets/hulu_titles-score (2).csv')\n",
    "netflix = pd.read_csv('../app/Datasets/netflix_titles-score.csv')"
   ]
  },
  {
   "attachments": {},
   "cell_type": "markdown",
   "metadata": {},
   "source": [
    "## **Propuesta de trabajo (requerimientos de aprobación)**\n",
    "\n",
    "**`Transformaciones`**:  El analista de datos requiere estas, ***y solo estas***, transformaciones para sus datos:\n",
    "\n",
    "\n",
    "+ **Consigna 1:** Generar campo **`id`**: Cada id se compondrá de la primera letra del nombre de la plataforma, seguido del show_id ya presente en los datasets (ejemplo para títulos de Amazon = **`as123`**)\n",
    "\n",
    "+ **Consigna 2:** Los valores nulos del campo rating deberán reemplazarse por el string “**`G`**” (corresponde al maturity rating: “general for all audiences”\n",
    "\n",
    "+ **Consigna 3:** De haber fechas, deberán tener el formato **`AAAA-mm-dd`**\n",
    "\n",
    "+ **Consigna 4:** Los campos de texto deberán estar en **minúsculas**, sin excepciones\n",
    "\n",
    "+ **Consigna 5:** El campo ***duration*** debe convertirse en dos campos: **`duration_int`** y **`duration_type`**. El primero será un integer y el segundo un string indicando la unidad de medición de duración: min (minutos) o season (temporadas)"
   ]
  },
  {
   "attachments": {},
   "cell_type": "markdown",
   "metadata": {},
   "source": [
    "### ``Consigna 1``"
   ]
  },
  {
   "cell_type": "code",
   "execution_count": 62,
   "metadata": {},
   "outputs": [],
   "source": [
    "def generate_id_show(initial_name, df):\n",
    "    df['show_id'] = initial_name + df['show_id']\n",
    "    return df"
   ]
  },
  {
   "cell_type": "code",
   "execution_count": 63,
   "metadata": {},
   "outputs": [],
   "source": [
    "amazon = generate_id_show('a', amazon)\n",
    "disney = generate_id_show('d', disney)\n",
    "hulu = generate_id_show('h', hulu)\n",
    "netflix = generate_id_show('n', netflix)"
   ]
  },
  {
   "attachments": {},
   "cell_type": "markdown",
   "metadata": {},
   "source": [
    "### ``Consigna 2``"
   ]
  },
  {
   "cell_type": "code",
   "execution_count": 64,
   "metadata": {},
   "outputs": [
    {
     "data": {
      "text/plain": [
       "array([nan, '13+', 'ALL', '18+', 'R', 'TV-Y', 'TV-Y7', 'NR', '16+',\n",
       "       'TV-PG', '7+', 'TV-14', 'TV-NR', 'TV-G', 'PG-13', 'TV-MA', 'G',\n",
       "       'PG', 'NC-17', 'UNRATED', '16', 'AGES_16_', 'AGES_18_', 'ALL_AGES',\n",
       "       'NOT_RATE'], dtype=object)"
      ]
     },
     "execution_count": 64,
     "metadata": {},
     "output_type": "execute_result"
    }
   ],
   "source": [
    "# amazon[~amazon.isna()]\n",
    "amazon['rating'].unique()"
   ]
  },
  {
   "cell_type": "code",
   "execution_count": 65,
   "metadata": {},
   "outputs": [],
   "source": [
    "amazon['rating'] = amazon['rating'].fillna('g')\n",
    "disney['rating'] = disney['rating'].fillna('g')\n",
    "hulu['rating'] = hulu['rating'].fillna('g')\n",
    "netflix['rating'] = netflix['rating'].fillna('g')"
   ]
  },
  {
   "cell_type": "code",
   "execution_count": 66,
   "metadata": {},
   "outputs": [
    {
     "data": {
      "text/plain": [
       "Index(['show_id', 'type', 'title', 'director', 'cast', 'country', 'date_added',\n",
       "       'release_year', 'rating', 'duration', 'listed_in', 'description',\n",
       "       'score'],\n",
       "      dtype='object')"
      ]
     },
     "execution_count": 66,
     "metadata": {},
     "output_type": "execute_result"
    }
   ],
   "source": [
    "amazon.columns"
   ]
  },
  {
   "attachments": {},
   "cell_type": "markdown",
   "metadata": {},
   "source": [
    "### ``Consigna 3``"
   ]
  },
  {
   "cell_type": "code",
   "execution_count": 67,
   "metadata": {},
   "outputs": [],
   "source": [
    "def change_date_added_datetime(df):\n",
    "    # pd.to_datetime(amazon['date_added'].str.strip(),  format='%B %d, %Y').dt.strftime('%Y-%m-%d')\n",
    "    # str.strip(): Netflix tuvo datos con espacios en la columna date_added\n",
    "    df['date_added'] = pd.to_datetime(df['date_added'].str.strip(),  format='%B %d, %Y').dt.strftime('%Y-%m-%d')\n",
    "    return df"
   ]
  },
  {
   "cell_type": "code",
   "execution_count": 68,
   "metadata": {},
   "outputs": [],
   "source": [
    "amazon = change_date_added_datetime(amazon)\n",
    "disney = change_date_added_datetime(disney)\n",
    "hulu = change_date_added_datetime(hulu)\n",
    "netflix = change_date_added_datetime(netflix)"
   ]
  },
  {
   "attachments": {},
   "cell_type": "markdown",
   "metadata": {},
   "source": [
    "### ``Consigna 4``"
   ]
  },
  {
   "cell_type": "code",
   "execution_count": 69,
   "metadata": {},
   "outputs": [],
   "source": [
    "def convert_to_lower(df):\n",
    "    object_columns_list= df.dtypes[df.dtypes == 'object'].index.to_list()\n",
    "    for col in object_columns_list:\n",
    "        df[col] = df[col].str.lower()\n",
    "    return df"
   ]
  },
  {
   "cell_type": "code",
   "execution_count": 70,
   "metadata": {},
   "outputs": [],
   "source": [
    "amazon = convert_to_lower(amazon)\n",
    "disney = convert_to_lower(disney)\n",
    "hulu = convert_to_lower(hulu)\n",
    "netflix = convert_to_lower(amazon)"
   ]
  },
  {
   "attachments": {},
   "cell_type": "markdown",
   "metadata": {},
   "source": [
    "### ``Consigna 5``"
   ]
  },
  {
   "attachments": {},
   "cell_type": "markdown",
   "metadata": {},
   "source": [
    "gna 5:** El campo ***duration*** debe convertirse en dos campos: **`duration_int`** y **`duration_type`**. El primero será un integer y el segundo un string indicando la unidad de medición de duración: min (minutos) o season (temporadas)"
   ]
  },
  {
   "cell_type": "code",
   "execution_count": 71,
   "metadata": {},
   "outputs": [
    {
     "data": {
      "text/plain": [
       "array(['113 min', '110 min', '74 min', '69 min', '45 min', '52 min',\n",
       "       '98 min', '131 min', '87 min', '92 min', '88 min', '93 min',\n",
       "       '94 min', '46 min', '96 min', '1 season', '104 min', '62 min',\n",
       "       '50 min', '3 seasons', '2 seasons', '86 min', '36 min', '37 min',\n",
       "       '103 min', '9 min', '18 min', '14 min', '20 min', '19 min',\n",
       "       '22 min', '60 min', '6 min', '54 min', '5 min', '84 min',\n",
       "       '126 min', '125 min', '109 min', '89 min', '85 min', '56 min',\n",
       "       '40 min', '111 min', '33 min', '34 min', '95 min', '99 min',\n",
       "       '78 min', '4 seasons', '77 min', '55 min', '53 min', '115 min',\n",
       "       '58 min', '49 min', '135 min', '91 min', '64 min', '59 min',\n",
       "       '48 min', '122 min', '90 min', '102 min', '65 min', '114 min',\n",
       "       '136 min', '70 min', '138 min', '100 min', '480 min', '4 min',\n",
       "       '30 min', '152 min', '68 min', '57 min', '7 seasons', '31 min',\n",
       "       '151 min', '149 min', '9 seasons', '141 min', '121 min', '79 min',\n",
       "       '140 min', '51 min', '106 min', '75 min', '27 min', '107 min',\n",
       "       '108 min', '38 min', '157 min', '43 min', '118 min', '139 min',\n",
       "       '6 seasons', '112 min', '15 min', '72 min', '5 seasons', '116 min',\n",
       "       '142 min', '71 min', '42 min', '81 min', '32 min', '66 min',\n",
       "       '127 min', '159 min', '67 min', '29 min', '132 min', '101 min',\n",
       "       '164 min', '73 min', '61 min', '80 min', '83 min', '44 min',\n",
       "       '120 min', '26 min', '97 min', '23 min', '105 min', '82 min',\n",
       "       '11 min', '148 min', '161 min', '123 min', '29 seasons', '0 min',\n",
       "       '124 min', '143 min', '35 min', '47 min', '170 min', '19 seasons',\n",
       "       '3 min', '146 min', '601 min', '24 min', '21 seasons', '154 min',\n",
       "       '128 min', '133 min', '153 min', '119 min', '63 min', '169 min',\n",
       "       '174 min', '144 min', '7 min', '137 min', '76 min', '39 min',\n",
       "       '8 seasons', '12 seasons', '134 min', '163 min', '1 min',\n",
       "       '145 min', '162 min', '41 min', '147 min', '155 min', '117 min',\n",
       "       '167 min', '11 seasons', '28 min', '25 min', '180 min', '2 min',\n",
       "       '541 min', '240 min', '129 min', '178 min', '171 min', '21 min',\n",
       "       '172 min', '173 min', '10 min', '166 min', '160 min', '130 min',\n",
       "       '479 min', '13 min', '8 min', '10 seasons', '17 min', '16 min',\n",
       "       '158 min', '183 min', '12 min', '14 seasons', '150 min', '481 min',\n",
       "       '181 min', '156 min', '540 min', '177 min', '550 min', '485 min',\n",
       "       '176 min', '193 min', '165 min', '175 min', '188 min', '187 min',\n",
       "       '168 min', '190 min', '185 min', '209 min', '192 min', '182 min',\n",
       "       '207 min', '269 min', '15 seasons', '191 min'], dtype=object)"
      ]
     },
     "execution_count": 71,
     "metadata": {},
     "output_type": "execute_result"
    }
   ],
   "source": [
    "amazon['duration'].unique() # Todos se pueden convertir a tipo entero (int), no hay caracteres alfabéticos u otros que no sean numéricos."
   ]
  },
  {
   "cell_type": "code",
   "execution_count": 72,
   "metadata": {},
   "outputs": [],
   "source": [
    "def normalize_duration(df):\n",
    "    df[['duration_int', 'duration_type']] = df['duration'].str.split(' ', expand=True)\n",
    "    df['duration_type'] = df['duration_type'].str.replace('seasons', 'season')\n",
    "    df['duration_int'] = pd.to_numeric(df['duration_int'], downcast='integer', errors='coerce')\n",
    "    return df"
   ]
  },
  {
   "cell_type": "code",
   "execution_count": 73,
   "metadata": {},
   "outputs": [],
   "source": [
    "amazon = normalize_duration(amazon)\n",
    "disney = normalize_duration(disney)\n",
    "hulu = normalize_duration(hulu)\n",
    "netflix = normalize_duration(netflix)"
   ]
  },
  {
   "attachments": {},
   "cell_type": "markdown",
   "metadata": {},
   "source": [
    "## ``Concatenación de dataframes``"
   ]
  },
  {
   "cell_type": "code",
   "execution_count": 74,
   "metadata": {},
   "outputs": [
    {
     "data": {
      "text/html": [
       "<div>\n",
       "<style scoped>\n",
       "    .dataframe tbody tr th:only-of-type {\n",
       "        vertical-align: middle;\n",
       "    }\n",
       "\n",
       "    .dataframe tbody tr th {\n",
       "        vertical-align: top;\n",
       "    }\n",
       "\n",
       "    .dataframe thead th {\n",
       "        text-align: right;\n",
       "    }\n",
       "</style>\n",
       "<table border=\"1\" class=\"dataframe\">\n",
       "  <thead>\n",
       "    <tr style=\"text-align: right;\">\n",
       "      <th></th>\n",
       "      <th>show_id</th>\n",
       "      <th>type</th>\n",
       "      <th>title</th>\n",
       "      <th>director</th>\n",
       "      <th>cast</th>\n",
       "      <th>country</th>\n",
       "      <th>date_added</th>\n",
       "      <th>release_year</th>\n",
       "      <th>rating</th>\n",
       "      <th>duration</th>\n",
       "      <th>listed_in</th>\n",
       "      <th>description</th>\n",
       "      <th>score</th>\n",
       "      <th>duration_int</th>\n",
       "      <th>duration_type</th>\n",
       "    </tr>\n",
       "  </thead>\n",
       "  <tbody>\n",
       "    <tr>\n",
       "      <th>0</th>\n",
       "      <td>as1</td>\n",
       "      <td>movie</td>\n",
       "      <td>the grand seduction</td>\n",
       "      <td>don mckellar</td>\n",
       "      <td>brendan gleeson, taylor kitsch, gordon pinsent</td>\n",
       "      <td>canada</td>\n",
       "      <td>2021-03-30</td>\n",
       "      <td>2014</td>\n",
       "      <td>g</td>\n",
       "      <td>113 min</td>\n",
       "      <td>comedy, drama</td>\n",
       "      <td>a small fishing village must procure a local d...</td>\n",
       "      <td>99</td>\n",
       "      <td>113.0</td>\n",
       "      <td>min</td>\n",
       "    </tr>\n",
       "    <tr>\n",
       "      <th>1</th>\n",
       "      <td>as2</td>\n",
       "      <td>movie</td>\n",
       "      <td>take care good night</td>\n",
       "      <td>girish joshi</td>\n",
       "      <td>mahesh manjrekar, abhay mahajan, sachin khedekar</td>\n",
       "      <td>india</td>\n",
       "      <td>2021-03-30</td>\n",
       "      <td>2018</td>\n",
       "      <td>13+</td>\n",
       "      <td>110 min</td>\n",
       "      <td>drama, international</td>\n",
       "      <td>a metro family decides to fight a cyber crimin...</td>\n",
       "      <td>37</td>\n",
       "      <td>110.0</td>\n",
       "      <td>min</td>\n",
       "    </tr>\n",
       "  </tbody>\n",
       "</table>\n",
       "</div>"
      ],
      "text/plain": [
       "  show_id   type                 title      director  \\\n",
       "0     as1  movie   the grand seduction  don mckellar   \n",
       "1     as2  movie  take care good night  girish joshi   \n",
       "\n",
       "                                               cast country  date_added  \\\n",
       "0    brendan gleeson, taylor kitsch, gordon pinsent  canada  2021-03-30   \n",
       "1  mahesh manjrekar, abhay mahajan, sachin khedekar   india  2021-03-30   \n",
       "\n",
       "   release_year rating duration             listed_in  \\\n",
       "0          2014      g  113 min         comedy, drama   \n",
       "1          2018    13+  110 min  drama, international   \n",
       "\n",
       "                                         description  score  duration_int  \\\n",
       "0  a small fishing village must procure a local d...     99         113.0   \n",
       "1  a metro family decides to fight a cyber crimin...     37         110.0   \n",
       "\n",
       "  duration_type  \n",
       "0           min  \n",
       "1           min  "
      ]
     },
     "execution_count": 74,
     "metadata": {},
     "output_type": "execute_result"
    }
   ],
   "source": [
    "movies = pd.concat([amazon, disney, hulu, netflix],axis=0)\n",
    "movies.head(2)"
   ]
  },
  {
   "cell_type": "code",
   "execution_count": 75,
   "metadata": {},
   "outputs": [
    {
     "data": {
      "text/html": [
       "<div>\n",
       "<style scoped>\n",
       "    .dataframe tbody tr th:only-of-type {\n",
       "        vertical-align: middle;\n",
       "    }\n",
       "\n",
       "    .dataframe tbody tr th {\n",
       "        vertical-align: top;\n",
       "    }\n",
       "\n",
       "    .dataframe thead th {\n",
       "        text-align: right;\n",
       "    }\n",
       "</style>\n",
       "<table border=\"1\" class=\"dataframe\">\n",
       "  <thead>\n",
       "    <tr style=\"text-align: right;\">\n",
       "      <th></th>\n",
       "      <th>show_id</th>\n",
       "      <th>type</th>\n",
       "      <th>title</th>\n",
       "      <th>director</th>\n",
       "      <th>cast</th>\n",
       "      <th>country</th>\n",
       "      <th>date_added</th>\n",
       "      <th>release_year</th>\n",
       "      <th>rating</th>\n",
       "      <th>duration</th>\n",
       "      <th>duration_int</th>\n",
       "      <th>duration_type</th>\n",
       "      <th>listed_in</th>\n",
       "      <th>description</th>\n",
       "      <th>score</th>\n",
       "    </tr>\n",
       "  </thead>\n",
       "  <tbody>\n",
       "    <tr>\n",
       "      <th>0</th>\n",
       "      <td>as1</td>\n",
       "      <td>movie</td>\n",
       "      <td>the grand seduction</td>\n",
       "      <td>don mckellar</td>\n",
       "      <td>brendan gleeson, taylor kitsch, gordon pinsent</td>\n",
       "      <td>canada</td>\n",
       "      <td>2021-03-30</td>\n",
       "      <td>2014</td>\n",
       "      <td>g</td>\n",
       "      <td>113 min</td>\n",
       "      <td>113.0</td>\n",
       "      <td>min</td>\n",
       "      <td>comedy, drama</td>\n",
       "      <td>a small fishing village must procure a local d...</td>\n",
       "      <td>99</td>\n",
       "    </tr>\n",
       "    <tr>\n",
       "      <th>1</th>\n",
       "      <td>as2</td>\n",
       "      <td>movie</td>\n",
       "      <td>take care good night</td>\n",
       "      <td>girish joshi</td>\n",
       "      <td>mahesh manjrekar, abhay mahajan, sachin khedekar</td>\n",
       "      <td>india</td>\n",
       "      <td>2021-03-30</td>\n",
       "      <td>2018</td>\n",
       "      <td>13+</td>\n",
       "      <td>110 min</td>\n",
       "      <td>110.0</td>\n",
       "      <td>min</td>\n",
       "      <td>drama, international</td>\n",
       "      <td>a metro family decides to fight a cyber crimin...</td>\n",
       "      <td>37</td>\n",
       "    </tr>\n",
       "  </tbody>\n",
       "</table>\n",
       "</div>"
      ],
      "text/plain": [
       "  show_id   type                 title      director  \\\n",
       "0     as1  movie   the grand seduction  don mckellar   \n",
       "1     as2  movie  take care good night  girish joshi   \n",
       "\n",
       "                                               cast country  date_added  \\\n",
       "0    brendan gleeson, taylor kitsch, gordon pinsent  canada  2021-03-30   \n",
       "1  mahesh manjrekar, abhay mahajan, sachin khedekar   india  2021-03-30   \n",
       "\n",
       "   release_year rating duration  duration_int duration_type  \\\n",
       "0          2014      g  113 min         113.0           min   \n",
       "1          2018    13+  110 min         110.0           min   \n",
       "\n",
       "              listed_in                                        description  \\\n",
       "0         comedy, drama  a small fishing village must procure a local d...   \n",
       "1  drama, international  a metro family decides to fight a cyber crimin...   \n",
       "\n",
       "   score  \n",
       "0     99  \n",
       "1     37  "
      ]
     },
     "execution_count": 75,
     "metadata": {},
     "output_type": "execute_result"
    }
   ],
   "source": [
    "# Reordenar las columnas del dataframe\n",
    "reordered_cols = ['show_id', 'type', 'title', 'director', 'cast', 'country', 'date_added','release_year', 'rating', 'duration', 'duration_int', 'duration_type', 'listed_in', 'description','score']\n",
    "movies[reordered_cols].head(2)"
   ]
  },
  {
   "cell_type": "code",
   "execution_count": 76,
   "metadata": {},
   "outputs": [
    {
     "name": "stdout",
     "output_type": "stream",
     "text": [
      "<class 'pandas.core.frame.DataFrame'>\n",
      "Int64Index: 23859 entries, 0 to 9667\n",
      "Data columns (total 15 columns):\n",
      " #   Column         Non-Null Count  Dtype  \n",
      "---  ------         --------------  -----  \n",
      " 0   show_id        23859 non-null  object \n",
      " 1   type           23859 non-null  object \n",
      " 2   title          23859 non-null  object \n",
      " 3   director       16152 non-null  object \n",
      " 4   cast           18130 non-null  object \n",
      " 5   country        4195 non-null   object \n",
      " 6   date_added     4802 non-null   object \n",
      " 7   release_year   23859 non-null  int64  \n",
      " 8   rating         23859 non-null  object \n",
      " 9   duration       23380 non-null  object \n",
      " 10  listed_in      23859 non-null  object \n",
      " 11  description    23855 non-null  object \n",
      " 12  score          23859 non-null  int64  \n",
      " 13  duration_int   23380 non-null  float64\n",
      " 14  duration_type  23380 non-null  object \n",
      "dtypes: float64(1), int64(2), object(12)\n",
      "memory usage: 2.9+ MB\n"
     ]
    }
   ],
   "source": [
    "movies.info()"
   ]
  },
  {
   "cell_type": "code",
   "execution_count": 77,
   "metadata": {},
   "outputs": [],
   "source": [
    "# Exportar a JSON: convierte el DataFrame a JSON con orientación 'records' (lista de diccionarios)\n",
    "movies_df = movies.to_json(orient='records')\n",
    "# Guarda el JSON en un archivo .json\n",
    "with open('app/src/db/movies_scores.json','w') as file:\n",
    "    file.write(movies_df)"
   ]
  },
  {
   "attachments": {},
   "cell_type": "markdown",
   "metadata": {},
   "source": [
    "<h3 align='center'><b>Fin</b></h3>\n",
    "<h3 align='center'><b>Gracias por leer</b></h3>"
   ]
  }
 ],
 "metadata": {
  "kernelspec": {
   "display_name": "Python 3",
   "language": "python",
   "name": "python3"
  },
  "language_info": {
   "codemirror_mode": {
    "name": "ipython",
    "version": 3
   },
   "file_extension": ".py",
   "mimetype": "text/x-python",
   "name": "python",
   "nbconvert_exporter": "python",
   "pygments_lexer": "ipython3",
   "version": "3.10.4 (tags/v3.10.4:9d38120, Mar 23 2022, 23:13:41) [MSC v.1929 64 bit (AMD64)]"
  },
  "orig_nbformat": 4,
  "vscode": {
   "interpreter": {
    "hash": "083fe66ff60a71b8dffb8da78864fd6c59b930a1517f0276b11b3fc5799832a7"
   }
  }
 },
 "nbformat": 4,
 "nbformat_minor": 2
}
