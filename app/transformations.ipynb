{
 "cells": [
  {
   "attachments": {},
   "cell_type": "markdown",
   "metadata": {},
   "source": [
    "# <h1 align=center>**`Data Engineering - Movies Score - Proyecto Individual`**</h1>"
   ]
  },
  {
   "attachments": {},
   "cell_type": "markdown",
   "metadata": {},
   "source": [
    "¡Bienvenidos al primer proyecto individual de la etapa de labs! En esta ocasión, deberán hacer un trabajo situándose en el rol de un ***Data Engineer***.  \n",
    "\n",
    "<hr>  \n",
    "\n",
    "## **Descripción del problema (Contexto y rol a desarrollar)**\n",
    "\n",
    "## Contexto\n",
    "\n",
    "`Application Programming Interface`  es una interfaz que permite que dos aplicaciones se comuniquen entre sí, independientemente de la infraestructura subyacente. Son herramientas muy versátiles que permiten por ejemplo, crear pipelines facilitando mover y brindar acceso simple a los datos que se quieran disponibilizar a través de los diferentes endpoints, o puntos de salida de la API.\n",
    "\n",
    "Hoy en día contamos con **FastAPI**, un web framework moderno y de alto rendimiento para construir APIs con Python.\n",
    "<p align=center>\n",
    "<img src = 'https://i.ibb.co/9t3dD7D/blog-zenvia-imagens-3.png' height=250><p>\n",
    "\n",
    "## Rol a desarrollar\n",
    "\n",
    "Como parte del equipo de data de una empresa, el área de análisis de datos le solicita al área de Data Engineering (usted) ciertos requerimientos para el óptimo desarrollo de sus actividades. Usted deberá elaborar las *transformaciones* requeridas y disponibilizar los datos mediante la *elaboración y ejecución de una API*.\n",
    "\n",
    "\n",
    "\n",
    "## **Propuesta de trabajo (requerimientos de aprobación)**\n",
    "\n",
    "**`Transformaciones`**:  El analista de datos requiere estas, ***y solo estas***, transformaciones para sus datos:\n",
    "\n",
    "\n",
    "+ Generar campo **`id`**: Cada id se compondrá de la primera letra del nombre de la plataforma, seguido del show_id ya presente en los datasets (ejemplo para títulos de Amazon = **`as123`**)\n",
    "\n",
    "+ Los valores nulos del campo rating deberán reemplazarse por el string “**`G`**” (corresponde al maturity rating: “general for all audiences”\n",
    "\n",
    "+ De haber fechas, deberán tener el formato **`AAAA-mm-dd`**\n",
    "\n",
    "+ Los campos de texto deberán estar en **minúsculas**, sin excepciones\n",
    "\n",
    "+ El campo ***duration*** debe convertirse en dos campos: **`duration_int`** y **`duration_type`**. El primero será un integer y el segundo un string indicando la unidad de medición de duración: min (minutos) o season (temporadas)\n",
    "\n",
    "<br/>\n",
    "\n",
    "**`Desarrollo API`**:  Para disponibilizar los datos la empresa usa el framework ***FastAPI***. El analista de datos requiere consultar:\n",
    "\n",
    "+ Cantidad de veces que aparece una keyword en el título de peliculas/series, por plataforma\n",
    "\n",
    "+ Cantidad de películas por plataforma con un puntaje mayor a XX en determinado año\n",
    "\n",
    "+ La segunda película con mayor score para una plataforma determinada, según el orden alfabético de los títulos.\n",
    "\n",
    "+ Película que más duró según año, plataforma y tipo de duración\n",
    "\n",
    "+ Cantidad de series y películas por rating\n",
    "\n",
    "<br/>\n",
    "\n",
    "\n",
    "**`Deployment`**: La empresa suele usar [Deta](https://www.deta.sh/?ref=fastapi) (no necesita dockerizacion) para realizar el deploy de sus aplicaciones. Sin embargo, también puede usar [Railway](https://railway.app/) y [Render](https://render.com/docs/free#free-web-services) (necesitan dockerizacion).\n",
    "<br/>\n",
    "\n",
    "<br/>\n",
    "\n",
    "**`Video`**: El Tech Lead que le delegó esta tarea quiere darle un feedback sobre el trabajo realizado. Para esto, le pide que sintetice en un video de ***5 minutos*** su trabajo resaltando cómo ayuda el mismo a los analistas de datos.\n",
    "\n",
    "<sub> **Spoiler: Para lograr esto DEBE mostrarle al TL las consultas requeridas en funcionamiento desde la API**. <sub/>\n",
    "\n",
    "<br/>\n",
    "\n",
    "## **Criterios de evaluación**\n",
    "\n",
    "**`Código`**: Prolijidad de código, uso de clases y/o funciones, en caso de ser necesario, código comentado. \n",
    "\n",
    "**`Repositorio`**: Nombres de archivo adecuados, uso de carpetas para ordenar los archivos, README.md presentando el proyecto y el trabajo realizado\n",
    "\n",
    "**`Cumplimiento`** de los requerimientos de aprobación indicados en el apartado `Propuesta de trabajo`\n",
    "\n",
    "NOTA: Recuerde entregar el link de acceso al video. Puede alojarse en YouTube, Drive o cualquier plataforma de almacenamiento. **Verificar que sea de acceso público**.\n",
    "\n",
    "<br/>\n",
    "\n",
    "## **Fuente de datos**\n",
    "\n",
    "+ Podrán encontrar los archivos con datos en la carpeta Datasets, en este mismo repositorio.<sup>*</sup>\n",
    "<br/>\n",
    "\n",
    "## **Material de apoyo**\n",
    "\n",
    "Imagen Docker con Uvicorn/Guinicorn para aplicaciones web de alta performance:\n",
    "\n",
    "+ https://hub.docker.com/r/tiangolo/uvicorn-gunicorn-fastapi/ \n",
    "\n",
    "+ https://github.com/tiangolo/uvicorn-gunicorn-fastapi-docker\n",
    "\n",
    "FAST API Documentation:\n",
    "\n",
    "+ https://fastapi.tiangolo.com/tutorial/\n",
    "\n",
    "\"Prolijidad\" del codigo:\n",
    "\n",
    "+ https://pandas.pydata.org/docs/development/contributing_docstring.html\n",
    "\n",
    "<br/>\n",
    "\n",
    "## **Deadlines importantes**\n",
    "\n",
    "+ Apertura de formularios de entrega de proyectos: **Miercoles 18, 15:00hs gmt -3**\n",
    "\n",
    "+ Cierre de formularios de entrega de proyectos: **Viernes 20, 12:00hs gmt-3**\n",
    "  \n",
    "+ Demo por parte del estudiante: **Viernes 20, 16:00hs gmt-3** \n",
    "\n",
    "(Se escogera entre l@s estudiantes aquel que represente de **forma global** todos los criterios de evaluacion esperados, para que sirva de inspiracion a sus compañer@s)\n",
    "\n",
    "## `Disclaimer`\n",
    "De parte del equipo de Henry se aclara y remarca que el fin de los proyectos propuestos es exclusivamente pedagógico, con el objetivo de realizar simular un entorno laboral, en el cual se trabajan diversas temáticas ajustadas a la realidad. No reflejan necesariamente la filosofía y valores de la organización. Además, Henry no alienta ni tampoco recomienda a los alumnos y/o cualquier persona leyendo los repositorios (y entregas de proyectos) que tomen acciones con base a los datos que pudieran o no haber recabado. Toda la información expuesta y resultados obtenidos en los proyectos nunca deben ser tomados en cuenta para la toma real de decisiones (especialmente en la temática de finanzas, salud, política, etc.)."
   ]
  },
  {
   "attachments": {},
   "cell_type": "markdown",
   "metadata": {},
   "source": [
    "## **Desarrollo de las transformaciones**"
   ]
  },
  {
   "attachments": {},
   "cell_type": "markdown",
   "metadata": {},
   "source": [
    "### ``Importación de librerías``"
   ]
  },
  {
   "cell_type": "code",
   "execution_count": 1,
   "metadata": {},
   "outputs": [],
   "source": [
    "# Importamos las librerías pandas y numpy para realizar las transformaciones\n",
    "import pandas as pd\n",
    "import numpy as np\n",
    "# Mostrar todas las filas y columnas\n",
    "pd.set_option('display.max_rows', None)\n",
    "pd.set_option('display.max_columns', None)"
   ]
  },
  {
   "attachments": {},
   "cell_type": "markdown",
   "metadata": {},
   "source": [
    "## ``Carga de datasets``"
   ]
  },
  {
   "cell_type": "code",
   "execution_count": 20,
   "metadata": {},
   "outputs": [],
   "source": [
    "amazon = pd.read_csv('./Datasets/amazon_prime_titles-score.csv')\n",
    "disney = pd.read_csv('./Datasets/disney_plus_titles-score.csv')\n",
    "hulu = pd.read_csv('./Datasets/hulu_titles-score (2).csv')\n",
    "netflix = pd.read_csv('./Datasets/netflix_titles-score.csv')"
   ]
  },
  {
   "attachments": {},
   "cell_type": "markdown",
   "metadata": {},
   "source": [
    "Antes de realizar las transformaciones consideraremos un diccionario cuyas llaves serán los nombre de los datasets y sus respectivos valores son la importación de los archivos csv correspondiente, tal como sigue:"
   ]
  },
  {
   "cell_type": "code",
   "execution_count": 21,
   "metadata": {},
   "outputs": [],
   "source": [
    "data_dictionary = {\n",
    "    'amazon': amazon,\n",
    "    'disney': disney,\n",
    "    'hulu': hulu,\n",
    "    'netflix': netflix\n",
    "}"
   ]
  },
  {
   "attachments": {},
   "cell_type": "markdown",
   "metadata": {},
   "source": [
    "Nota: La metodología va ha consistir en aplicar las transformaciones a todos los datasets y en el orden que nos proponen. Una vez aplicada dichas transformaciones concatenaremos los dataframes para exportarlo en un archivo JSON con el nombre ``movies_scores.json``. Finalemente, desarrollaremos una API usando FastAPI y realizaremos las consultas basadas en los datos transformados ``movies_scores.json``."
   ]
  },
  {
   "attachments": {},
   "cell_type": "markdown",
   "metadata": {},
   "source": [
    "### **``Transformación 1:``**\n",
    "Generar campo **`id`**: Cada id se compondrá de la primera letra del nombre de la plataforma, seguido del show_id ya presente en los datasets (ejemplo para títulos de Amazon = **`as123`**)"
   ]
  },
  {
   "cell_type": "code",
   "execution_count": 22,
   "metadata": {},
   "outputs": [],
   "source": [
    "# Funcion para agregar/concatenar la letra (string) inicial del nombre de la plataforma en show_id\n",
    "def generate_id_show(dict_data):\n",
    "    for df_name , df in zip(dict_data.keys(), dict_data.values()):\n",
    "        df['show_id'] = df_name[0] + df['show_id']\n",
    "        dict_data[df_name] = df    \n",
    "    return dict_data"
   ]
  },
  {
   "cell_type": "code",
   "execution_count": 23,
   "metadata": {},
   "outputs": [],
   "source": [
    "# Aplicación de la transformación 1\n",
    "data_dictionary = generate_id_show(data_dictionary)"
   ]
  },
  {
   "cell_type": "code",
   "execution_count": 27,
   "metadata": {},
   "outputs": [
    {
     "data": {
      "text/html": [
       "<div>\n",
       "<style scoped>\n",
       "    .dataframe tbody tr th:only-of-type {\n",
       "        vertical-align: middle;\n",
       "    }\n",
       "\n",
       "    .dataframe tbody tr th {\n",
       "        vertical-align: top;\n",
       "    }\n",
       "\n",
       "    .dataframe thead th {\n",
       "        text-align: right;\n",
       "    }\n",
       "</style>\n",
       "<table border=\"1\" class=\"dataframe\">\n",
       "  <thead>\n",
       "    <tr style=\"text-align: right;\">\n",
       "      <th></th>\n",
       "      <th>show_id</th>\n",
       "      <th>type</th>\n",
       "      <th>title</th>\n",
       "      <th>director</th>\n",
       "      <th>cast</th>\n",
       "      <th>country</th>\n",
       "      <th>date_added</th>\n",
       "      <th>release_year</th>\n",
       "      <th>rating</th>\n",
       "      <th>duration</th>\n",
       "      <th>listed_in</th>\n",
       "      <th>description</th>\n",
       "      <th>score</th>\n",
       "    </tr>\n",
       "  </thead>\n",
       "  <tbody>\n",
       "    <tr>\n",
       "      <th>0</th>\n",
       "      <td>as1</td>\n",
       "      <td>Movie</td>\n",
       "      <td>The Grand Seduction</td>\n",
       "      <td>Don McKellar</td>\n",
       "      <td>Brendan Gleeson, Taylor Kitsch, Gordon Pinsent</td>\n",
       "      <td>Canada</td>\n",
       "      <td>March 30, 2021</td>\n",
       "      <td>2014</td>\n",
       "      <td>NaN</td>\n",
       "      <td>113 min</td>\n",
       "      <td>Comedy, Drama</td>\n",
       "      <td>A small fishing village must procure a local d...</td>\n",
       "      <td>99</td>\n",
       "    </tr>\n",
       "  </tbody>\n",
       "</table>\n",
       "</div>"
      ],
      "text/plain": [
       "  show_id   type                title      director  \\\n",
       "0     as1  Movie  The Grand Seduction  Don McKellar   \n",
       "\n",
       "                                             cast country      date_added  \\\n",
       "0  Brendan Gleeson, Taylor Kitsch, Gordon Pinsent  Canada  March 30, 2021   \n",
       "\n",
       "   release_year rating duration      listed_in  \\\n",
       "0          2014    NaN  113 min  Comedy, Drama   \n",
       "\n",
       "                                         description  score  \n",
       "0  A small fishing village must procure a local d...     99  "
      ]
     },
     "execution_count": 27,
     "metadata": {},
     "output_type": "execute_result"
    }
   ],
   "source": [
    "data_dictionary['amazon'].head(1)"
   ]
  },
  {
   "attachments": {},
   "cell_type": "markdown",
   "metadata": {},
   "source": [
    "### **``Transformación 2:``**\n",
    "Los valores nulos del campo rating deberán reemplazarse por el string “**`G`**” (corresponde al maturity rating: “general for all audiences”"
   ]
  },
  {
   "cell_type": "code",
   "execution_count": 28,
   "metadata": {},
   "outputs": [
    {
     "data": {
      "text/plain": [
       "337"
      ]
     },
     "execution_count": 28,
     "metadata": {},
     "output_type": "execute_result"
    }
   ],
   "source": [
    "# Veamos cuantos valores nulos serán afectados por esta transformación\n",
    "amazon['rating'].isnull().sum() # 337 valores"
   ]
  },
  {
   "cell_type": "code",
   "execution_count": 29,
   "metadata": {},
   "outputs": [],
   "source": [
    "# Funcion para reemplazar los valores nulos de la columna rating por 'g' en los datasets\n",
    "def fillna_initial_df_name(dict_data):\n",
    "    for df_name,df in  zip(dict_data.keys(),dict_data.values()):\n",
    "        df['rating'] = df['rating'].fillna('g')\n",
    "        dict_data[df_name] = df\n",
    "    return dict_data"
   ]
  },
  {
   "cell_type": "code",
   "execution_count": 30,
   "metadata": {},
   "outputs": [],
   "source": [
    "# Aplicación de la transformación 2\n",
    "data_dictionary = fillna_initial_df_name(data_dictionary)"
   ]
  },
  {
   "cell_type": "code",
   "execution_count": 32,
   "metadata": {},
   "outputs": [
    {
     "name": "stdout",
     "output_type": "stream",
     "text": [
      "Datos nulos despues de la transformaación: 0\n",
      "Datos únicos despues de la transformaación: ['g' '13+' 'ALL' '18+' 'R' 'TV-Y' 'TV-Y7' 'NR' '16+' 'TV-PG' '7+' 'TV-14'\n",
      " 'TV-NR' 'TV-G' 'PG-13' 'TV-MA' 'G' 'PG' 'NC-17' 'UNRATED' '16' 'AGES_16_'\n",
      " 'AGES_18_' 'ALL_AGES' 'NOT_RATE']\n"
     ]
    }
   ],
   "source": [
    "# Veamos como queda despues de aplicar la funcion de transformación\n",
    "print('Datos nulos despues de la transformaación:',data_dictionary['amazon']['rating'].isnull().sum()) # 0 datos nulos\n",
    "print('Datos únicos despues de la transformaación:',data_dictionary['amazon']['rating'].unique())"
   ]
  },
  {
   "attachments": {},
   "cell_type": "markdown",
   "metadata": {},
   "source": [
    "### **``Transformación 3:``**\n",
    "De haber fechas, deberán tener el formato **`AAAA-mm-dd`**"
   ]
  },
  {
   "cell_type": "code",
   "execution_count": 33,
   "metadata": {},
   "outputs": [],
   "source": [
    "def change_date_added_datetime(dict_data):\n",
    "    for df_name, df in zip(dict_data.keys(), dict_data.values()):\n",
    "        df['date_added'] = pd.to_datetime(df['date_added'].str.strip(),  format='%B %d, %Y').dt.strftime('%Y-%m-%d')\n",
    "        dict_data[df_name] = df\n",
    "    return dict_data"
   ]
  },
  {
   "cell_type": "code",
   "execution_count": 34,
   "metadata": {},
   "outputs": [],
   "source": [
    "# Aplicación de la transformación 3\n",
    "data_dictionary = change_date_added_datetime(data_dictionary)"
   ]
  },
  {
   "cell_type": "code",
   "execution_count": 37,
   "metadata": {},
   "outputs": [
    {
     "data": {
      "text/plain": [
       "0    2021-03-30\n",
       "1    2021-03-30\n",
       "2    2021-03-30\n",
       "3    2021-03-30\n",
       "4    2021-03-30\n",
       "Name: date_added, dtype: object"
      ]
     },
     "execution_count": 37,
     "metadata": {},
     "output_type": "execute_result"
    }
   ],
   "source": [
    "# Veamos los cinco primeros valores de la columna date_added con el formato \"AAAA-mm-dd\"\n",
    "data_dictionary['amazon']['date_added'].head(5)"
   ]
  },
  {
   "attachments": {},
   "cell_type": "markdown",
   "metadata": {},
   "source": [
    "### **``Transformación 4:``**\n",
    "Los campos de texto deberán estar en **minúsculas**, sin excepciones"
   ]
  },
  {
   "cell_type": "code",
   "execution_count": 38,
   "metadata": {},
   "outputs": [],
   "source": [
    "# Funcion para convertir a minúscula todas las columna de tipo Objeto y/o con valores strings\n",
    "def convert_to_lower(dict_data):\n",
    "    for df_name, df in zip(dict_data.keys(), dict_data.values()):\n",
    "        object_columns_list= df.dtypes[df.dtypes == 'object'].index.to_list()\n",
    "        for col in object_columns_list:\n",
    "            df[col] = df[col].str.lower()\n",
    "        dict_data[df_name] = df\n",
    "    return dict_data"
   ]
  },
  {
   "cell_type": "code",
   "execution_count": 39,
   "metadata": {},
   "outputs": [],
   "source": [
    "# Aplicacion de la transformación 4\n",
    "data_dictionary = convert_to_lower(data_dictionary)"
   ]
  },
  {
   "cell_type": "code",
   "execution_count": 40,
   "metadata": {},
   "outputs": [
    {
     "data": {
      "text/html": [
       "<div>\n",
       "<style scoped>\n",
       "    .dataframe tbody tr th:only-of-type {\n",
       "        vertical-align: middle;\n",
       "    }\n",
       "\n",
       "    .dataframe tbody tr th {\n",
       "        vertical-align: top;\n",
       "    }\n",
       "\n",
       "    .dataframe thead th {\n",
       "        text-align: right;\n",
       "    }\n",
       "</style>\n",
       "<table border=\"1\" class=\"dataframe\">\n",
       "  <thead>\n",
       "    <tr style=\"text-align: right;\">\n",
       "      <th></th>\n",
       "      <th>show_id</th>\n",
       "      <th>type</th>\n",
       "      <th>title</th>\n",
       "      <th>director</th>\n",
       "      <th>cast</th>\n",
       "      <th>country</th>\n",
       "      <th>date_added</th>\n",
       "      <th>release_year</th>\n",
       "      <th>rating</th>\n",
       "      <th>duration</th>\n",
       "      <th>listed_in</th>\n",
       "      <th>description</th>\n",
       "      <th>score</th>\n",
       "    </tr>\n",
       "  </thead>\n",
       "  <tbody>\n",
       "    <tr>\n",
       "      <th>0</th>\n",
       "      <td>as1</td>\n",
       "      <td>movie</td>\n",
       "      <td>the grand seduction</td>\n",
       "      <td>don mckellar</td>\n",
       "      <td>brendan gleeson, taylor kitsch, gordon pinsent</td>\n",
       "      <td>canada</td>\n",
       "      <td>2021-03-30</td>\n",
       "      <td>2014</td>\n",
       "      <td>g</td>\n",
       "      <td>113 min</td>\n",
       "      <td>comedy, drama</td>\n",
       "      <td>a small fishing village must procure a local d...</td>\n",
       "      <td>99</td>\n",
       "    </tr>\n",
       "    <tr>\n",
       "      <th>1</th>\n",
       "      <td>as2</td>\n",
       "      <td>movie</td>\n",
       "      <td>take care good night</td>\n",
       "      <td>girish joshi</td>\n",
       "      <td>mahesh manjrekar, abhay mahajan, sachin khedekar</td>\n",
       "      <td>india</td>\n",
       "      <td>2021-03-30</td>\n",
       "      <td>2018</td>\n",
       "      <td>13+</td>\n",
       "      <td>110 min</td>\n",
       "      <td>drama, international</td>\n",
       "      <td>a metro family decides to fight a cyber crimin...</td>\n",
       "      <td>37</td>\n",
       "    </tr>\n",
       "    <tr>\n",
       "      <th>2</th>\n",
       "      <td>as3</td>\n",
       "      <td>movie</td>\n",
       "      <td>secrets of deception</td>\n",
       "      <td>josh webber</td>\n",
       "      <td>tom sizemore, lorenzo lamas, robert lasardo, r...</td>\n",
       "      <td>united states</td>\n",
       "      <td>2021-03-30</td>\n",
       "      <td>2017</td>\n",
       "      <td>g</td>\n",
       "      <td>74 min</td>\n",
       "      <td>action, drama, suspense</td>\n",
       "      <td>after a man discovers his wife is cheating on ...</td>\n",
       "      <td>20</td>\n",
       "    </tr>\n",
       "  </tbody>\n",
       "</table>\n",
       "</div>"
      ],
      "text/plain": [
       "  show_id   type                 title      director  \\\n",
       "0     as1  movie   the grand seduction  don mckellar   \n",
       "1     as2  movie  take care good night  girish joshi   \n",
       "2     as3  movie  secrets of deception   josh webber   \n",
       "\n",
       "                                                cast        country  \\\n",
       "0     brendan gleeson, taylor kitsch, gordon pinsent         canada   \n",
       "1   mahesh manjrekar, abhay mahajan, sachin khedekar          india   \n",
       "2  tom sizemore, lorenzo lamas, robert lasardo, r...  united states   \n",
       "\n",
       "   date_added  release_year rating duration                listed_in  \\\n",
       "0  2021-03-30          2014      g  113 min            comedy, drama   \n",
       "1  2021-03-30          2018    13+  110 min     drama, international   \n",
       "2  2021-03-30          2017      g   74 min  action, drama, suspense   \n",
       "\n",
       "                                         description  score  \n",
       "0  a small fishing village must procure a local d...     99  \n",
       "1  a metro family decides to fight a cyber crimin...     37  \n",
       "2  after a man discovers his wife is cheating on ...     20  "
      ]
     },
     "execution_count": 40,
     "metadata": {},
     "output_type": "execute_result"
    }
   ],
   "source": [
    "# Veamos como quedaron los datos string en minúscula\n",
    "data_dictionary['amazon'].head(3)"
   ]
  },
  {
   "attachments": {},
   "cell_type": "markdown",
   "metadata": {},
   "source": [
    "### **``Transformación 5:``**\n",
    "El campo ***duration*** debe convertirse en dos campos: **`duration_int`** y **`duration_type`**. El primero será un integer y el segundo un string indicando la unidad de medición de duración: min (minutos) o season (temporadas)"
   ]
  },
  {
   "cell_type": "code",
   "execution_count": 41,
   "metadata": {},
   "outputs": [
    {
     "data": {
      "text/plain": [
       "array(['113 min', '110 min', '74 min', '69 min', '45 min', '52 min',\n",
       "       '98 min', '131 min', '87 min', '92 min', '88 min', '93 min',\n",
       "       '94 min', '46 min', '96 min', '1 season', '104 min', '62 min',\n",
       "       '50 min', '3 seasons', '2 seasons', '86 min', '36 min', '37 min',\n",
       "       '103 min', '9 min', '18 min', '14 min', '20 min', '19 min',\n",
       "       '22 min', '60 min', '6 min', '54 min', '5 min', '84 min',\n",
       "       '126 min', '125 min', '109 min', '89 min', '85 min', '56 min',\n",
       "       '40 min', '111 min', '33 min', '34 min', '95 min', '99 min',\n",
       "       '78 min', '4 seasons', '77 min', '55 min', '53 min', '115 min',\n",
       "       '58 min', '49 min', '135 min', '91 min', '64 min', '59 min',\n",
       "       '48 min', '122 min', '90 min', '102 min', '65 min', '114 min',\n",
       "       '136 min', '70 min', '138 min', '100 min', '480 min', '4 min',\n",
       "       '30 min', '152 min', '68 min', '57 min', '7 seasons', '31 min',\n",
       "       '151 min', '149 min', '9 seasons', '141 min', '121 min', '79 min',\n",
       "       '140 min', '51 min', '106 min', '75 min', '27 min', '107 min',\n",
       "       '108 min', '38 min', '157 min', '43 min', '118 min', '139 min',\n",
       "       '6 seasons', '112 min', '15 min', '72 min', '5 seasons', '116 min',\n",
       "       '142 min', '71 min', '42 min', '81 min', '32 min', '66 min',\n",
       "       '127 min', '159 min', '67 min', '29 min', '132 min', '101 min',\n",
       "       '164 min', '73 min', '61 min', '80 min', '83 min', '44 min',\n",
       "       '120 min', '26 min', '97 min', '23 min', '105 min', '82 min',\n",
       "       '11 min', '148 min', '161 min', '123 min', '29 seasons', '0 min',\n",
       "       '124 min', '143 min', '35 min', '47 min', '170 min', '19 seasons',\n",
       "       '3 min', '146 min', '601 min', '24 min', '21 seasons', '154 min',\n",
       "       '128 min', '133 min', '153 min', '119 min', '63 min', '169 min',\n",
       "       '174 min', '144 min', '7 min', '137 min', '76 min', '39 min',\n",
       "       '8 seasons', '12 seasons', '134 min', '163 min', '1 min',\n",
       "       '145 min', '162 min', '41 min', '147 min', '155 min', '117 min',\n",
       "       '167 min', '11 seasons', '28 min', '25 min', '180 min', '2 min',\n",
       "       '541 min', '240 min', '129 min', '178 min', '171 min', '21 min',\n",
       "       '172 min', '173 min', '10 min', '166 min', '160 min', '130 min',\n",
       "       '479 min', '13 min', '8 min', '10 seasons', '17 min', '16 min',\n",
       "       '158 min', '183 min', '12 min', '14 seasons', '150 min', '481 min',\n",
       "       '181 min', '156 min', '540 min', '177 min', '550 min', '485 min',\n",
       "       '176 min', '193 min', '165 min', '175 min', '188 min', '187 min',\n",
       "       '168 min', '190 min', '185 min', '209 min', '192 min', '182 min',\n",
       "       '207 min', '269 min', '15 seasons', '191 min'], dtype=object)"
      ]
     },
     "execution_count": 41,
     "metadata": {},
     "output_type": "execute_result"
    }
   ],
   "source": [
    "# Verifiquemos datos atípicos que quizá no puedan convertir al tipo entero\n",
    "disney['duration'].unique()\n",
    "hulu['duration'].unique()\n",
    "netflix['duration'].unique()\n",
    "amazon['duration'].unique() # Todos se pueden convertir a tipo entero (int), no hay caracteres alfabéticos u otros que no sean numéricos."
   ]
  },
  {
   "attachments": {},
   "cell_type": "markdown",
   "metadata": {},
   "source": [
    "**``Observación:``** Los datos no parecen estar normalizados podemos notar que existen valores de la estrutura ``XXX season`` y ``XXX seasons`` lo que deberían implicar la misma unidad de medida de temporada de las series. Por esta razón aplicaremos una transformación adicional de reemplazo de los valores del tipo ``XXX seasons`` por ``XXX season`` para que quede normalizado en la columna ``duration_type``"
   ]
  },
  {
   "cell_type": "code",
   "execution_count": 43,
   "metadata": {},
   "outputs": [],
   "source": [
    "# Función para convertir \n",
    "def normalize_duration(dict_data):\n",
    "    for df_name, df in zip(dict_data.keys(), dict_data.values()):\n",
    "        # Separación por ' ' y expansión en columnas de los valores separados creando las columnas duration_int y duration_type\n",
    "        df[['duration_int', 'duration_type']] = df['duration'].str.split(' ', expand=True)\n",
    "        # Reeemplazo de los valores 'seasons' por 'season'\n",
    "        df['duration_type'] = df['duration_type'].str.replace('seasons', 'season')\n",
    "        # Converción al tipo entero de los datos en la columna duration_int\n",
    "        df['duration_int'] = pd.to_numeric(df['duration_int'], downcast='integer', errors='coerce')\n",
    "        # df['duration_int'] = df['duration_int'].astype(int)\n",
    "        dict_data[df_name] = df\n",
    "    return dict_data"
   ]
  },
  {
   "cell_type": "code",
   "execution_count": 44,
   "metadata": {},
   "outputs": [],
   "source": [
    "# Aplicación de la transformación 5\n",
    "data_dictionary = normalize_duration(data_dictionary)"
   ]
  },
  {
   "cell_type": "code",
   "execution_count": 46,
   "metadata": {},
   "outputs": [
    {
     "data": {
      "text/html": [
       "<div>\n",
       "<style scoped>\n",
       "    .dataframe tbody tr th:only-of-type {\n",
       "        vertical-align: middle;\n",
       "    }\n",
       "\n",
       "    .dataframe tbody tr th {\n",
       "        vertical-align: top;\n",
       "    }\n",
       "\n",
       "    .dataframe thead th {\n",
       "        text-align: right;\n",
       "    }\n",
       "</style>\n",
       "<table border=\"1\" class=\"dataframe\">\n",
       "  <thead>\n",
       "    <tr style=\"text-align: right;\">\n",
       "      <th></th>\n",
       "      <th>show_id</th>\n",
       "      <th>type</th>\n",
       "      <th>title</th>\n",
       "      <th>director</th>\n",
       "      <th>cast</th>\n",
       "      <th>country</th>\n",
       "      <th>date_added</th>\n",
       "      <th>release_year</th>\n",
       "      <th>rating</th>\n",
       "      <th>duration</th>\n",
       "      <th>listed_in</th>\n",
       "      <th>description</th>\n",
       "      <th>score</th>\n",
       "      <th>duration_int</th>\n",
       "      <th>duration_type</th>\n",
       "    </tr>\n",
       "  </thead>\n",
       "  <tbody>\n",
       "    <tr>\n",
       "      <th>0</th>\n",
       "      <td>as1</td>\n",
       "      <td>movie</td>\n",
       "      <td>the grand seduction</td>\n",
       "      <td>don mckellar</td>\n",
       "      <td>brendan gleeson, taylor kitsch, gordon pinsent</td>\n",
       "      <td>canada</td>\n",
       "      <td>2021-03-30</td>\n",
       "      <td>2014</td>\n",
       "      <td>g</td>\n",
       "      <td>113 min</td>\n",
       "      <td>comedy, drama</td>\n",
       "      <td>a small fishing village must procure a local d...</td>\n",
       "      <td>99</td>\n",
       "      <td>113</td>\n",
       "      <td>min</td>\n",
       "    </tr>\n",
       "    <tr>\n",
       "      <th>1</th>\n",
       "      <td>as2</td>\n",
       "      <td>movie</td>\n",
       "      <td>take care good night</td>\n",
       "      <td>girish joshi</td>\n",
       "      <td>mahesh manjrekar, abhay mahajan, sachin khedekar</td>\n",
       "      <td>india</td>\n",
       "      <td>2021-03-30</td>\n",
       "      <td>2018</td>\n",
       "      <td>13+</td>\n",
       "      <td>110 min</td>\n",
       "      <td>drama, international</td>\n",
       "      <td>a metro family decides to fight a cyber crimin...</td>\n",
       "      <td>37</td>\n",
       "      <td>110</td>\n",
       "      <td>min</td>\n",
       "    </tr>\n",
       "  </tbody>\n",
       "</table>\n",
       "</div>"
      ],
      "text/plain": [
       "  show_id   type                 title      director  \\\n",
       "0     as1  movie   the grand seduction  don mckellar   \n",
       "1     as2  movie  take care good night  girish joshi   \n",
       "\n",
       "                                               cast country  date_added  \\\n",
       "0    brendan gleeson, taylor kitsch, gordon pinsent  canada  2021-03-30   \n",
       "1  mahesh manjrekar, abhay mahajan, sachin khedekar   india  2021-03-30   \n",
       "\n",
       "   release_year rating duration             listed_in  \\\n",
       "0          2014      g  113 min         comedy, drama   \n",
       "1          2018    13+  110 min  drama, international   \n",
       "\n",
       "                                         description  score  duration_int  \\\n",
       "0  a small fishing village must procure a local d...     99           113   \n",
       "1  a metro family decides to fight a cyber crimin...     37           110   \n",
       "\n",
       "  duration_type  \n",
       "0           min  \n",
       "1           min  "
      ]
     },
     "execution_count": 46,
     "metadata": {},
     "output_type": "execute_result"
    }
   ],
   "source": [
    "# Veamos cómo quedó despues de la transformación\n",
    "data_dictionary['amazon'].head(2)"
   ]
  },
  {
   "attachments": {},
   "cell_type": "markdown",
   "metadata": {},
   "source": [
    "### **``Concatenación de dataframes``**"
   ]
  },
  {
   "cell_type": "code",
   "execution_count": 47,
   "metadata": {},
   "outputs": [],
   "source": [
    "# Función para concatenar los dataframes transformados\n",
    "def concat_dataframes(dict_data):\n",
    "    movies = pd.concat([dict_data['amazon'], dict_data['disney'], dict_data['hulu'], dict_data['netflix']],axis=0)\n",
    "    return movies"
   ]
  },
  {
   "cell_type": "code",
   "execution_count": 49,
   "metadata": {},
   "outputs": [],
   "source": [
    "# Aplicación de la concatenación quedando como dataframe concatenado movies_scores_df\n",
    "movies_scores_df = concat_dataframes(data_dictionary)"
   ]
  },
  {
   "cell_type": "code",
   "execution_count": 50,
   "metadata": {},
   "outputs": [],
   "source": [
    "# Función para reordenar las columnas del dataframe\n",
    "def reorder_cols(df):\n",
    "    reordered_cols = ['show_id', 'type', 'title', 'director', 'cast', 'country', 'date_added','release_year', 'rating', 'duration', 'duration_int', 'duration_type', 'listed_in', 'description','score']\n",
    "    df = df[reordered_cols]\n",
    "    return df"
   ]
  },
  {
   "cell_type": "code",
   "execution_count": 51,
   "metadata": {},
   "outputs": [],
   "source": [
    "# Aplicación del reordenamiento\n",
    "movies_scores_df = reorder_cols(movies_scores_df)"
   ]
  },
  {
   "cell_type": "code",
   "execution_count": 52,
   "metadata": {},
   "outputs": [
    {
     "name": "stdout",
     "output_type": "stream",
     "text": [
      "<class 'pandas.core.frame.DataFrame'>\n",
      "Int64Index: 22998 entries, 0 to 8806\n",
      "Data columns (total 15 columns):\n",
      " #   Column         Non-Null Count  Dtype  \n",
      "---  ------         --------------  -----  \n",
      " 0   show_id        22998 non-null  object \n",
      " 1   type           22998 non-null  object \n",
      " 2   title          22998 non-null  object \n",
      " 3   director       14739 non-null  object \n",
      " 4   cast           17677 non-null  object \n",
      " 5   country        11499 non-null  object \n",
      " 6   date_added     13444 non-null  object \n",
      " 7   release_year   22998 non-null  int64  \n",
      " 8   rating         22998 non-null  object \n",
      " 9   duration       22516 non-null  object \n",
      " 10  duration_int   22516 non-null  float64\n",
      " 11  duration_type  22516 non-null  object \n",
      " 12  listed_in      22998 non-null  object \n",
      " 13  description    22994 non-null  object \n",
      " 14  score          22998 non-null  int64  \n",
      "dtypes: float64(1), int64(2), object(12)\n",
      "memory usage: 2.8+ MB\n"
     ]
    }
   ],
   "source": [
    "# Veamos la información general del dataframe final\n",
    "movies_scores_df.info()"
   ]
  },
  {
   "attachments": {},
   "cell_type": "markdown",
   "metadata": {},
   "source": [
    "### **``Exportación de la data transformada``**"
   ]
  },
  {
   "cell_type": "code",
   "execution_count": 55,
   "metadata": {},
   "outputs": [],
   "source": [
    "def save_as_json(df):\n",
    "    # path_file = Path('app/src/db/movies_scores.json')\n",
    "    # Exportar a JSON: convierte el DataFrame a JSON con orientación 'records' (lista de diccionarios)\n",
    "    df_json = df.to_json(orient='records')\n",
    "    # Guarda el JSON en un archivo .json\n",
    "    with open('../app/db/movies_scores.json','w') as file:\n",
    "        file.write(df_json)\n"
   ]
  },
  {
   "cell_type": "code",
   "execution_count": 56,
   "metadata": {},
   "outputs": [],
   "source": [
    "# Ejecutando la funcion para guardar el archivo \"movies_scores.json\"\n",
    "save_as_json(movies_scores_df)"
   ]
  },
  {
   "attachments": {},
   "cell_type": "markdown",
   "metadata": {},
   "source": [
    "<h3 align='center'><b>Gracias por leer</b></h3>\n",
    "<!-- <span align='center'><b>Roy Quillca Pacco</b> <button src='https://google.com'>royquillca</button></span> -->"
   ]
  }
 ],
 "metadata": {
  "kernelspec": {
   "display_name": "Python 3",
   "language": "python",
   "name": "python3"
  },
  "language_info": {
   "codemirror_mode": {
    "name": "ipython",
    "version": 3
   },
   "file_extension": ".py",
   "mimetype": "text/x-python",
   "name": "python",
   "nbconvert_exporter": "python",
   "pygments_lexer": "ipython3",
   "version": "3.10.4"
  },
  "orig_nbformat": 4,
  "vscode": {
   "interpreter": {
    "hash": "083fe66ff60a71b8dffb8da78864fd6c59b930a1517f0276b11b3fc5799832a7"
   }
  }
 },
 "nbformat": 4,
 "nbformat_minor": 2
}
